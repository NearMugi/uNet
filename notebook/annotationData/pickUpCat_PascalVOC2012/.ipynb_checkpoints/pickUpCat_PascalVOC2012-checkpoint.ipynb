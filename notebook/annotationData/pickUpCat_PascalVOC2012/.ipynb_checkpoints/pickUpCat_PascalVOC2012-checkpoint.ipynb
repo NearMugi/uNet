{
 "cells": [
  {
   "cell_type": "markdown",
   "metadata": {},
   "source": [
    "# PascalVOC2012から特定のインデックス画像をピックアップする"
   ]
  },
  {
   "cell_type": "code",
   "execution_count": 1,
   "metadata": {},
   "outputs": [],
   "source": [
    "INPUT_PATH = '0_input\\VOCdevkit\\VOC2012'\n",
    "INPUT_JPEGIMAGE_PATH = '\\JPEGImages\\*'\n",
    "INPUT_SEGMENT_PATH = '\\SegmentationClass\\*'\n",
    "INDEX_CAT = 8 "
   ]
  },
  {
   "cell_type": "markdown",
   "metadata": {},
   "source": [
    "## 特定のインデックスを抽出する  "
   ]
  },
  {
   "cell_type": "code",
   "execution_count": 3,
   "metadata": {},
   "outputs": [
    {
     "name": "stdout",
     "output_type": "stream",
     "text": [
      "palette size : (256, 3)\n",
      "target Idx : 8, RGB[64  0  0]\n",
      "[End] GetSize : 250\n",
      "250\n"
     ]
    }
   ],
   "source": [
    "from PIL import Image\n",
    "import numpy as np\n",
    "\n",
    "from glob import glob\n",
    "\n",
    "def getPickUpImageList(idx):\n",
    "    ''' \n",
    "    指定したインデックス画像名を取得する\n",
    "    [input] インデックス\n",
    "    [output] 画像名のList\n",
    "    '''\n",
    "    targetImageList = list()\n",
    "    files = glob(INPUT_PATH + INPUT_SEGMENT_PATH);\n",
    "\n",
    "    # パレット(Numpy配列)を取得\n",
    "    palette = np.array(\"\")\n",
    "    for path in files:\n",
    "        with Image.open(path) as im:\n",
    "            palette = np.array(im.getpalette(), dtype=np.uint8).reshape(-1, 3)\n",
    "            print(\"palette size : %s\" % str(palette.shape))\n",
    "            print(\"target Idx : %i, RGB%s\" %(idx, str(palette[idx])))\n",
    "            break\n",
    "\n",
    "    cnt = 0\n",
    "    for path in files:\n",
    "        with Image.open(path) as im:\n",
    "            # RGBに変換\n",
    "            #converted_rgb = np.asarray(im.convert(\"RGB\"))\n",
    "            #print(converted_rgb.shape)\n",
    "            \n",
    "            # ターゲットのインデックス以外の値は[0]に置き換える\n",
    "            p_array = np.asarray(im)\n",
    "            reduced = p_array.copy()\n",
    "            reduced[reduced != idx] = 0\n",
    "            # 重複データを削除\n",
    "            uniqueArray = np.unique(reduced, axis=0)\n",
    "            # ターゲットのインデックスがない場合 -> 全てゼロ -> shapeは(1,500)\n",
    "            # ターゲットのインデックスがある場合 -> 2行以上ある -> shape[0] > 1\n",
    "            if uniqueArray.shape[0] > 1:\n",
    "                cnt += 1\n",
    "                pos = str(path).rfind(\"\\\\\")\n",
    "                fn =path[pos+1:-4]\n",
    "                #print(fn)                    \n",
    "                targetImageList.append(fn)\n",
    "\n",
    "    print(\"[End] GetSize : %i\" % cnt)\n",
    "    return targetImageList\n",
    "    \n",
    "if __name__ == \"__main__\":\n",
    "    targetImageList = getPickUpImageList(INDEX_CAT)\n",
    "    print(len(targetImageList))\n"
   ]
  }
 ],
 "metadata": {
  "kernelspec": {
   "display_name": "Python 3",
   "language": "python",
   "name": "python3"
  },
  "language_info": {
   "codemirror_mode": {
    "name": "ipython",
    "version": 3
   },
   "file_extension": ".py",
   "mimetype": "text/x-python",
   "name": "python",
   "nbconvert_exporter": "python",
   "pygments_lexer": "ipython3",
   "version": "3.7.3"
  }
 },
 "nbformat": 4,
 "nbformat_minor": 4
}
