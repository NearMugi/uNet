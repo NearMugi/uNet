{
 "cells": [
  {
   "cell_type": "markdown",
   "metadata": {},
   "source": [
    "# PascalVOC2012から特定のインデックス画像をピックアップする"
   ]
  },
  {
   "cell_type": "code",
   "execution_count": 15,
   "metadata": {},
   "outputs": [],
   "source": [
    "INPUT_PATH = '0_input\\VOCdevkit\\VOC2012'\n",
    "INPUT_JPEGIMAGE_PATH = '\\JPEGImages\\\\'\n",
    "INPUT_SEGMENT_PATH = '\\SegmentationClass\\*'\n",
    "OUTPUT_SEG_PATH = '1_outputSegmentation\\\\'\n",
    "OUTPUT_ORI_PATH = '2_outputOriginal\\\\'\n",
    "OUTPUT_BINARY_PATH = '3_binarization\\\\'\n",
    "INDEX_CAT = 8 \n",
    "INDEX_DOG = 12"
   ]
  },
  {
   "cell_type": "markdown",
   "metadata": {},
   "source": [
    "## 特定のインデックスを抽出&別フォルダに出力"
   ]
  },
  {
   "cell_type": "code",
   "execution_count": 14,
   "metadata": {},
   "outputs": [
    {
     "name": "stdout",
     "output_type": "stream",
     "text": [
      "palette size : (256, 3)\n",
      "target Idx : 8, RGB[64  0  0]\n",
      "[End] GetSize : 250\n",
      "palette size : (256, 3)\n",
      "target Idx : 12, RGB[ 64   0 128]\n",
      "[End] GetSize : 249\n",
      "499\n"
     ]
    }
   ],
   "source": [
    "from PIL import Image\n",
    "import numpy as np\n",
    "from glob import glob\n",
    "\n",
    "def getPickUpImage(idx):\n",
    "    ''' \n",
    "    指定したインデックス画像名を取得する\n",
    "    [input] インデックス\n",
    "    [output] 画像名のList\n",
    "    '''\n",
    "    targetImageList = list()\n",
    "    files = glob(INPUT_PATH + INPUT_SEGMENT_PATH)\n",
    "\n",
    "    # パレット(Numpy配列)を取得\n",
    "    palette = np.array(\"\")\n",
    "    for path in files:\n",
    "        with Image.open(path) as im:\n",
    "            palette = np.array(im.getpalette(), dtype=np.uint8).reshape(-1, 3)\n",
    "            print(\"palette size : %s\" % str(palette.shape))\n",
    "            print(\"target Idx : %i, RGB%s\" %(idx, str(palette[idx])))\n",
    "            break\n",
    "\n",
    "    cnt = 0\n",
    "    for path in files:\n",
    "        with Image.open(path) as im:            \n",
    "            # ターゲットのインデックス以外の値は[0]に置き換える\n",
    "            p_array = np.asarray(im)\n",
    "            reduced = p_array.copy()\n",
    "            reduced[reduced != idx] = 0\n",
    "            # 重複データを削除\n",
    "            uniqueArray = np.unique(reduced, axis=0)\n",
    "            # ターゲットのインデックスがない場合 -> 全てゼロ -> shapeは(1,500)\n",
    "            # ターゲットのインデックスがある場合 -> 2行以上ある -> shape[0] > 1\n",
    "            if uniqueArray.shape[0] > 1:\n",
    "                cnt += 1\n",
    "                pos = str(path).rfind(\"\\\\\")\n",
    "                fn =path[pos + 1:-4]\n",
    "                #print(fn)                    \n",
    "                targetImageList.append(fn)\n",
    "                \n",
    "                # 別フォルダにコピーする\n",
    "                im.save(OUTPUT_SEG_PATH + fn + '.png', quality=95)\n",
    "                # 別フォルダにコピーする(オリジナル画像)\n",
    "                fileOri = INPUT_PATH + INPUT_JPEGIMAGE_PATH + fn + '.jpg'\n",
    "                with Image.open(fileOri) as imOri:\n",
    "                    imOri.save(OUTPUT_ORI_PATH + fn + '.jpg', quality=95)                \n",
    "\n",
    "    print(\"[End] GetSize : %i\" % cnt)\n",
    "    return targetImageList\n",
    "    \n",
    "if __name__ == \"__main__\":\n",
    "    targetImageList = getPickUpImage(INDEX_CAT)\n",
    "    targetImageList.extend(getPickUpImage(INDEX_DOG))\n",
    "    print(len(targetImageList))\n"
   ]
  },
  {
   "cell_type": "markdown",
   "metadata": {},
   "source": [
    "## 2値化してフォルダにコピーする  \n",
    "インデックスの扱いは以下のURLを参考にした  \n",
    "[Numpyでインデックスカラー画像（VOC2012のマスク）→RGB画像への変換をする方法](https://blog.shikoan.com/numpy-indexedcolor-to-rgb/)"
   ]
  },
  {
   "cell_type": "code",
   "execution_count": 36,
   "metadata": {},
   "outputs": [
    {
     "name": "stdout",
     "output_type": "stream",
     "text": [
      "palette size : (256, 3)\n",
      "target Idx : 8, RGB[64  0  0]\n"
     ]
    }
   ],
   "source": [
    "from PIL import Image\n",
    "import numpy as np\n",
    "from glob import glob\n",
    "\n",
    "def binarizationImage(idx):\n",
    "    ''' \n",
    "    指定したインデックス画像のみ残して2値化する\n",
    "    [input] インデックス\n",
    "    [output]\n",
    "    '''\n",
    "    files = glob(OUTPUT_SEG_PATH + '*')\n",
    "\n",
    "    # パレット(Numpy配列)を取得\n",
    "    palette = np.array(\"\")\n",
    "    for path in files:\n",
    "        if path.find('.png') < 0:\n",
    "            continue        \n",
    "        with Image.open(path) as im:\n",
    "            palette = np.array(im.getpalette(), dtype=np.uint8).reshape(-1, 3)\n",
    "            print(\"palette size : %s\" % str(palette.shape))\n",
    "            print(\"target Idx : %i, RGB%s\" %(idx, str(palette[idx])))\n",
    "            break\n",
    "\n",
    "    for path in files:\n",
    "        if path.find('.png') < 0:\n",
    "            continue\n",
    "        with Image.open(path) as im:\n",
    "            # ターゲットのインデックス以外は[0]に、\n",
    "            # ターゲットのインデックスは[1]に置き換える\n",
    "            p_array = np.asarray(im)\n",
    "            reduced = p_array.copy()\n",
    "            reduced[reduced != idx] = 0\n",
    "            reduced[reduced == idx] = 1\n",
    "            expanded_img = np.eye(palette.shape[0], dtype=np.int32)[reduced]\n",
    "            use_pallete = palette[:palette.shape[0]].astype(np.int32)\n",
    "            rgb_array = np.dot(expanded_img, use_pallete).astype(np.uint8)\n",
    "\n",
    "            # 別フォルダにコピーする\n",
    "            pos = str(path).rfind(\"\\\\\")\n",
    "            fn =path[pos + 1:]\n",
    "            pil_img = Image.fromarray(rgb_array)\n",
    "            pil_img.save(OUTPUT_BINARY_PATH + fn, quality=95)\n",
    "                \n",
    "if __name__ == \"__main__\":\n",
    "    binarizationImage(INDEX_CAT)\n",
    "    "
   ]
  }
 ],
 "metadata": {
  "kernelspec": {
   "display_name": "Python 3",
   "language": "python",
   "name": "python3"
  },
  "language_info": {
   "codemirror_mode": {
    "name": "ipython",
    "version": 3
   },
   "file_extension": ".py",
   "mimetype": "text/x-python",
   "name": "python",
   "nbconvert_exporter": "python",
   "pygments_lexer": "ipython3",
   "version": "3.7.6"
  }
 },
 "nbformat": 4,
 "nbformat_minor": 4
}
