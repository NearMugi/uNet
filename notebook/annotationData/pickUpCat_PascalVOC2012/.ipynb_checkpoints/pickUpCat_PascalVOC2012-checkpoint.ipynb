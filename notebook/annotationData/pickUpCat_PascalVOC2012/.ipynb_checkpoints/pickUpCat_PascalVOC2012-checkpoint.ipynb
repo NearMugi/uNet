{
 "cells": [
  {
   "cell_type": "markdown",
   "metadata": {},
   "source": [
    "# PascalVOC2012からネコ画像だけピックアップする"
   ]
  },
  {
   "cell_type": "code",
   "execution_count": 8,
   "metadata": {},
   "outputs": [],
   "source": [
    "INPUT_PATH = '0_input\\VOCdevkit\\VOC2012'\n",
    "INPUT_JPEGIMAGE_PATH = '\\JPEGImages\\*'\n",
    "INPUT_SEGMENT_PATH = '\\SegmentationClass\\*'"
   ]
  },
  {
   "cell_type": "code",
   "execution_count": null,
   "metadata": {},
   "outputs": [],
   "source": [
    "from glob import glob\n",
    "files = glob(INPUT_PATH + INPUT_SEGMENT_PATH);\n",
    "for path in files:\n",
    "    with open(path) as f:\n",
    "        print(type(f))"
   ]
  }
 ],
 "metadata": {
  "kernelspec": {
   "display_name": "Python 3",
   "language": "python",
   "name": "python3"
  },
  "language_info": {
   "codemirror_mode": {
    "name": "ipython",
    "version": 3
   },
   "file_extension": ".py",
   "mimetype": "text/x-python",
   "name": "python",
   "nbconvert_exporter": "python",
   "pygments_lexer": "ipython3",
   "version": "3.7.3"
  }
 },
 "nbformat": 4,
 "nbformat_minor": 4
}
