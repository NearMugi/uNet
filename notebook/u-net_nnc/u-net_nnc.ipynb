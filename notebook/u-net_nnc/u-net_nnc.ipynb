{
 "cells": [
  {
   "cell_type": "markdown",
   "metadata": {},
   "source": [
    "# NNCで使うデータセットリストを作成  \n",
    "\n",
    "以下のようなcsvファイルを作成  \n",
    "pascal_voc_2012_seg_train_125px.csv\n",
    "pascal_voc_2012_seg_val_125px.csv  \n",
    "\n",
    "x:image,y:label  \n",
    "./images_125px/2007_000032.png,./labels_125px/2007_000032.png  \n"
   ]
  },
  {
   "cell_type": "code",
   "execution_count": 2,
   "metadata": {},
   "outputs": [],
   "source": [
    "TRAIN_CSV = 'u-net_train.csv'\n",
    "VAL_CSV = 'u-net_val.csv'\n",
    "\n",
    "TRAINING_PATH = 'trainingData'\n",
    "IMAGE_PATH = 'image'\n",
    "MASK_PATH = 'maskGrey'"
   ]
  },
  {
   "cell_type": "code",
   "execution_count": 3,
   "metadata": {},
   "outputs": [
    {
     "name": "stdout",
     "output_type": "stream",
     "text": [
      "reshape [image] Size : 2000\n",
      "reshape [maskGrey] Size : 2000\n"
     ]
    }
   ],
   "source": [
    "from PIL import Image\n",
    "from glob import glob\n",
    "\n",
    "def reshapeImage(path):\n",
    "    cnt = 0\n",
    "    files = glob(path + '*')\n",
    "    for path in files:\n",
    "        if path.find('.png') < 0 and path.find('.jpg') < 0:\n",
    "            continue        \n",
    "        with Image.open(path) as im:                \n",
    "            # 画像の短辺に合わせて正方形化\n",
    "            im = crop_to_square(im)\n",
    "\n",
    "            # 64*64にリサイズ\n",
    "            im = im.resize((64, 64))\n",
    "\n",
    "            # アルファチャネルがあればRGBに変換\n",
    "            if im.mode == 'RGBA':\n",
    "                im = im.convert('RGB')\n",
    "\n",
    "            im.save(path, quality=95)\n",
    "            \n",
    "            cnt += 1\n",
    "    return cnt\n",
    "def crop_to_square(image):\n",
    "    ''' 画像の短辺に合わせて正方形化\n",
    "    '''\n",
    "    size = min(image.size)\n",
    "    left, upper = (image.width - size) // 2, (image.height - size) // 2\n",
    "    right, bottom = (image.width + size) // 2, (image.height + size) // 2\n",
    "\n",
    "    return image.crop((left, upper, right, bottom))\n",
    "\n",
    "if __name__ == \"__main__\":\n",
    "    cnt = reshapeImage(TRAINING_PATH + \"\\\\\" + IMAGE_PATH + \"\\\\\")\n",
    "    print(\"reshape [%s] Size : %i\" %(IMAGE_PATH, cnt))\n",
    "    cnt = reshapeImage(TRAINING_PATH + \"\\\\\" + MASK_PATH + \"\\\\\")\n",
    "    print(\"reshape [%s] Size : %i\" %(MASK_PATH, cnt))\n",
    "    "
   ]
  },
  {
   "cell_type": "code",
   "execution_count": 4,
   "metadata": {},
   "outputs": [
    {
     "name": "stdout",
     "output_type": "stream",
     "text": [
      "Data(2000) -> Train(1400), Val(600)\n"
     ]
    }
   ],
   "source": [
    "import os\n",
    "import csv\n",
    "from glob import glob\n",
    "import random\n",
    "\n",
    "# ファイル名を取得\n",
    "fnList = list()\n",
    "files = glob(TRAINING_PATH + os.sep + IMAGE_PATH + os.sep + \"*\")\n",
    "for path in files:\n",
    "    pos = str(path).rfind(\"\\\\\")\n",
    "    fn =path[pos + 1:-4]\n",
    "    fnList.append(fn)\n",
    "\n",
    "# シャッフル\n",
    "random.shuffle(fnList)\n",
    "\n",
    "# Train : Validation = 7 : 3 に分ける\n",
    "trainCnt = (int)(len(fnList) / 10 * 7)\n",
    "valCnt = len(fnList) - trainCnt\n",
    "print(\"Data(%i) -> Train(%i), Val(%i)\" % (len(fnList), trainCnt, valCnt))\n",
    "\n",
    "with open('./' + TRAIN_CSV, 'w', newline=\"\") as f:\n",
    "    writer = csv.writer(f)\n",
    "    writer.writerow([\"x:image\", \"y:label\"])\n",
    "    for i in range(trainCnt):\n",
    "        imagePath = './' + TRAINING_PATH + '/' + IMAGE_PATH + '/' + fnList[i] + '.jpg'\n",
    "        maskPath = './' + TRAINING_PATH + '/' + MASK_PATH + '/' + fnList[i] + '.png'\n",
    "        writer.writerow([imagePath, maskPath])\n",
    "\n",
    "with open('./' + VAL_CSV, 'w', newline=\"\") as f:\n",
    "    writer = csv.writer(f)\n",
    "    writer.writerow([\"x:image\", \"y:label\"])\n",
    "    for i in range(trainCnt, len(fnList)):\n",
    "        imagePath = './' + TRAINING_PATH + '/' + IMAGE_PATH + '/' + fnList[i] + '.jpg'\n",
    "        maskPath = './' + TRAINING_PATH + '/' + MASK_PATH + '/' + fnList[i] + '.png'\n",
    "        writer.writerow([imagePath, maskPath])\n"
   ]
  }
 ],
 "metadata": {
  "kernelspec": {
   "display_name": "Python 3",
   "language": "python",
   "name": "python3"
  },
  "language_info": {
   "codemirror_mode": {
    "name": "ipython",
    "version": 3
   },
   "file_extension": ".py",
   "mimetype": "text/x-python",
   "name": "python",
   "nbconvert_exporter": "python",
   "pygments_lexer": "ipython3",
   "version": "3.7.6"
  }
 },
 "nbformat": 4,
 "nbformat_minor": 4
}
