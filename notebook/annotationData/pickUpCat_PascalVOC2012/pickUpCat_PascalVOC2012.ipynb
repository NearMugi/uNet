{
 "cells": [
  {
   "cell_type": "markdown",
   "metadata": {},
   "source": [
    "# PascalVOC2012から特定のインデックス画像をピックアップする"
   ]
  },
  {
   "cell_type": "code",
   "execution_count": 20,
   "metadata": {},
   "outputs": [],
   "source": [
    "INPUT_PATH = '0_input\\VOCdevkit\\VOC2012\\\\'\n",
    "INPUT_IMAGE_PATH = 'JPEGImages\\\\'\n",
    "INPUT_MASK_PATH = 'SegmentationClass\\\\'\n",
    "SELECT_PATH = '1_select\\\\'\n",
    "BASE_PATH = '2_base\\\\'\n",
    "IMAGE_PATH = 'image\\\\'\n",
    "MASK_PATH = 'mask\\\\'\n",
    "MASK_PALETTE_PATH = 'maskPalette\\\\'\n",
    "MASK_GREY_PATH = 'maskGrey\\\\'\n",
    "INDEX_CAT = 8 "
   ]
  },
  {
   "cell_type": "markdown",
   "metadata": {},
   "source": [
    "## 特定のインデックスを抽出&別フォルダに出力"
   ]
  },
  {
   "cell_type": "code",
   "execution_count": 3,
   "metadata": {},
   "outputs": [
    {
     "name": "stdout",
     "output_type": "stream",
     "text": [
      "palette size : (256, 3)\n",
      "target Idx : 8, RGB[64  0  0]\n",
      "[End] GetSize : 250\n",
      "250\n"
     ]
    }
   ],
   "source": [
    "from PIL import Image\n",
    "import numpy as np\n",
    "from glob import glob\n",
    "\n",
    "def getPickUpImage(idx, path):\n",
    "    ''' \n",
    "    指定したインデックス画像名を取得する\n",
    "    [input] インデックス, パス(inputImage, inputMask, outputImage, outputMask)\n",
    "    [output] 画像名のList\n",
    "    '''\n",
    "    inputImagePath = path[0]\n",
    "    imputMaskPath = path[1] + '*'\n",
    "    outputImagePath = path[2]\n",
    "    outputMaskPath = path[3]\n",
    "    targetImageList = list()\n",
    "    files = glob(imputMaskPath)\n",
    "\n",
    "    # パレット(Numpy配列)を取得\n",
    "    palette = np.array(\"\")\n",
    "    for path in files:\n",
    "        with Image.open(path) as im:\n",
    "            palette = np.array(im.getpalette(), dtype=np.uint8).reshape(-1, 3)\n",
    "            print(\"palette size : %s\" % str(palette.shape))\n",
    "            print(\"target Idx : %i, RGB%s\" %(idx, str(palette[idx])))\n",
    "            break\n",
    "\n",
    "    cnt = 0\n",
    "    for path in files:\n",
    "        with Image.open(path) as im:            \n",
    "            # ターゲットのインデックス以外の値は[0]に置き換える\n",
    "            p_array = np.asarray(im)\n",
    "            reduced = p_array.copy()\n",
    "            reduced[reduced != idx] = 0\n",
    "            # 重複データを削除\n",
    "            uniqueArray = np.unique(reduced, axis=0)\n",
    "            # ターゲットのインデックスがない場合 -> 全てゼロ -> shapeは(1,500)\n",
    "            # ターゲットのインデックスがある場合 -> 2行以上ある -> shape[0] > 1\n",
    "            if uniqueArray.shape[0] > 1:\n",
    "                cnt += 1\n",
    "                pos = str(path).rfind(\"\\\\\")\n",
    "                fn =path[pos + 1:-4]\n",
    "                #print(fn)                    \n",
    "                targetImageList.append(fn)\n",
    "                \n",
    "                # 別フォルダにコピーする\n",
    "                im.save(outputMaskPath + fn + '.png', quality=95)\n",
    "                \n",
    "                # 別フォルダにコピーする(オリジナル画像)\n",
    "                fileOri = inputImagePath + fn + '.jpg'\n",
    "                with Image.open(fileOri) as imOri:\n",
    "                    imOri.save(outputImagePath + fn + '.jpg', quality=95)                \n",
    "\n",
    "    print(\"[End] GetSize : %i\" % cnt)\n",
    "    return targetImageList\n",
    "    \n",
    "if __name__ == \"__main__\":\n",
    "    path = [\n",
    "        INPUT_PATH + INPUT_IMAGE_PATH,\n",
    "        INPUT_PATH + INPUT_MASK_PATH,\n",
    "        SELECT_PATH + IMAGE_PATH,\n",
    "        SELECT_PATH + MASK_PATH\n",
    "    ]\n",
    "    targetImageList = getPickUpImage(INDEX_CAT, path)\n",
    "    print(len(targetImageList))\n"
   ]
  },
  {
   "cell_type": "markdown",
   "metadata": {},
   "source": [
    "## 画像を調整  \n",
    "画像サイズ・ アルファチャンネル削除   \n",
    "参考URL  \n",
    "[セマンティックセグメンテーションをやってみた](https://qiita.com/yakisobamilk/items/2470354c8d01aaf1e510)\n"
   ]
  },
  {
   "cell_type": "code",
   "execution_count": 4,
   "metadata": {},
   "outputs": [
    {
     "name": "stdout",
     "output_type": "stream",
     "text": [
      "reshape [image\\] Size : 250\n",
      "reshape [mask\\] Size : 250\n"
     ]
    }
   ],
   "source": [
    "from PIL import Image\n",
    "from glob import glob\n",
    "\n",
    "def reshapeImage(path):\n",
    "    cnt = 0\n",
    "    files = glob(path + '*')\n",
    "    for path in files:\n",
    "        if path.find('.png') < 0 and path.find('.jpg') < 0:\n",
    "            continue        \n",
    "        with Image.open(path) as im:                \n",
    "            # 画像の短辺に合わせて正方形化\n",
    "            im = crop_to_square(im)\n",
    "\n",
    "            # 512*512にリサイズ\n",
    "            im = im.resize((512, 512))\n",
    "\n",
    "            # アルファチャネルがあればRGBに変換\n",
    "            if im.mode == 'RGBA':\n",
    "                im = im.convert('RGB')\n",
    "\n",
    "            im.save(path, quality=95)\n",
    "            \n",
    "            cnt += 1\n",
    "    return cnt\n",
    "                \n",
    "    \n",
    "def crop_to_square(image):\n",
    "    ''' 画像の短辺に合わせて正方形化\n",
    "    '''\n",
    "    size = min(image.size)\n",
    "    left, upper = (image.width - size) // 2, (image.height - size) // 2\n",
    "    right, bottom = (image.width + size) // 2, (image.height + size) // 2\n",
    "\n",
    "    return image.crop((left, upper, right, bottom))\n",
    "\n",
    "if __name__ == \"__main__\":\n",
    "    cnt = reshapeImage(SELECT_PATH + IMAGE_PATH)\n",
    "    print(\"reshape [%s] Size : %i\" %(IMAGE_PATH, cnt))\n",
    "    cnt = reshapeImage(SELECT_PATH + MASK_PATH)\n",
    "    print(\"reshape [%s] Size : %i\" %(MASK_PATH, cnt))\n",
    "    "
   ]
  },
  {
   "cell_type": "markdown",
   "metadata": {},
   "source": [
    "## ImageDataGenerator  \n",
    "  \n",
    "[画像の前処理](https://keras.io/ja/preprocessing/image/)  \n",
    "[セマンティックセグメンテーションをやってみた](https://qiita.com/yakisobamilk/items/2470354c8d01aaf1e510)  \n",
    "\n"
   ]
  },
  {
   "cell_type": "code",
   "execution_count": 6,
   "metadata": {},
   "outputs": [
    {
     "name": "stderr",
     "output_type": "stream",
     "text": [
      "Using TensorFlow backend.\n"
     ]
    },
    {
     "name": "stdout",
     "output_type": "stream",
     "text": [
      "Found 250 images belonging to 1 classes.\n",
      "Found 250 images belonging to 1 classes.\n",
      "[End]\n"
     ]
    }
   ],
   "source": [
    "from keras.preprocessing.image import ImageDataGenerator\n",
    "import numpy as np\n",
    "\n",
    "def trainGenerator(image_folder, batch_size=20, save_to_dir=[None, None]):\n",
    "    # 2つのジェネレータに同じパラメータを設定する\n",
    "    data_gen_args = dict(\n",
    "        rotation_range = 90.,\n",
    "        zoom_range=0.2,\n",
    "        horizontal_flip = True,\n",
    "        vertical_flip = True,\n",
    "        rescale=None\n",
    "    )\n",
    "    # Shuffle時のSeedは共通\n",
    "    seed = 256                    \n",
    "\n",
    "    # ImageDataGeneratorを準備\n",
    "    image_datagen = ImageDataGenerator(**data_gen_args)\n",
    "    mask_datagen = ImageDataGenerator(**data_gen_args)\n",
    "\n",
    "    # ジェネレータを準備\n",
    "    image_generator = image_datagen.flow_from_directory(\n",
    "        directory = image_folder,\n",
    "        classes = ['image'], \n",
    "        class_mode = None,\n",
    "        target_size = (256, 256),\n",
    "        batch_size = batch_size,\n",
    "        seed = seed,\n",
    "        save_to_dir = save_to_dir[0],\n",
    "        save_format = 'jpg'\n",
    "    )\n",
    "    mask_generator = mask_datagen.flow_from_directory(\n",
    "        directory=image_folder,\n",
    "        classes=['mask'],\n",
    "        class_mode=None,\n",
    "        target_size=(256, 256),\n",
    "        batch_size=batch_size,\n",
    "        seed=seed,\n",
    "        save_to_dir=save_to_dir[1],\n",
    "        save_format = 'png'\n",
    "    )\n",
    "    \n",
    "    for (img, mask) in zip(image_generator, mask_generator):\n",
    "        yield img, mask    \n",
    "\n",
    "if __name__ == '__main__':\n",
    "    temp_gen = trainGenerator(\n",
    "        SELECT_PATH, \n",
    "        batch_size=1, \n",
    "        save_to_dir=[ \n",
    "            BASE_PATH + IMAGE_PATH, \n",
    "            BASE_PATH + MASK_PATH\n",
    "        ]\n",
    "    )\n",
    "\n",
    "    DATA_SIZE = 250 * 8\n",
    "    cnt = 0\n",
    "    for img, mask in temp_gen:\n",
    "        cnt += 1\n",
    "        if cnt >= DATA_SIZE:\n",
    "            break\n",
    "    \n",
    "    print(\"[End]\")\n"
   ]
  },
  {
   "cell_type": "markdown",
   "metadata": {},
   "source": [
    "## 2値化してフォルダにコピーする  (出力はパレットモード)\n",
    "RGBからの2値化は以下のURLを参考にした  \n",
    "[python，OpenCV，numpyによる色抽出・変換](https://teratail.com/questions/100301)  \n",
    "\n",
    "インデックスの扱いは以下のURLを参考にした  \n",
    "[Numpyでインデックスカラー画像（VOC2012のマスク）→RGB画像への変換をする方法](https://blog.shikoan.com/numpy-indexedcolor-to-rgb/)  \n",
    "新しいパレットを設定するのは以下のURL  \n",
    "[インデックスカラーのカラーパレットの編集](https://teratail.com/questions/187368)"
   ]
  },
  {
   "cell_type": "code",
   "execution_count": 22,
   "metadata": {},
   "outputs": [
    {
     "name": "stdout",
     "output_type": "stream",
     "text": [
      "Binarization Image Size : 2000\n"
     ]
    }
   ],
   "source": [
    "from PIL import Image\n",
    "import numpy as np\n",
    "from glob import glob\n",
    "\n",
    "def binarizationImage(path):\n",
    "    ''' \n",
    "    指定したインデックスカラーのみ残して2値化する\n",
    "    [input] パス(入力,出力)\n",
    "    [output] 変換したファイル数\n",
    "    '''\n",
    "    inputPath = path[0] + '*'\n",
    "    outputPath = path[1]\n",
    "    files = glob(inputPath)\n",
    "    # 新しいパレット 0:黒(0,0,0), 1:白(255,255,255)\n",
    "    palette = np.zeros((256, 3), dtype=np.uint8)\n",
    "    palette[0] = [0, 0, 0]\n",
    "    palette[1] = [255, 255, 255]\n",
    "    palette = palette.reshape(-1).tolist()\n",
    "\n",
    "    cnt = 0\n",
    "    for path in files:\n",
    "        if path.find('.png') < 0:\n",
    "            continue\n",
    "        with Image.open(path) as im:\n",
    "            if im.mode != 'RGB':\n",
    "                print(\"not RGB mode...\")\n",
    "                continue\n",
    "                \n",
    "            # 特定の色を白、それ以外を黒にする\n",
    "            p = np.asarray(im, dtype=np.uint8)\n",
    "            reduced = p.copy()\n",
    "            cond_p = (reduced[:,:,0] >= 64) & (reduced[:,:,0] < 80) & (reduced[:,:,1] == 0) & (reduced[:,:,2] == 0)\n",
    "            cond_f = np.logical_not(cond_p)\n",
    "            reduced[cond_p] = 1\n",
    "            reduced[cond_f] = 0\n",
    "\n",
    "            # パレットモードの画像を出力する\n",
    "            base = np.zeros((256, 256), dtype=np.uint8)\n",
    "            for i in range(256):\n",
    "                for j in range(256):\n",
    "                    if reduced[i,j,0] > 0:\n",
    "                        base[i,j] = 1\n",
    "            \n",
    "            # 別フォルダにコピーする\n",
    "            with Image.fromarray(base, mode=\"P\") as im:\n",
    "                # パレットの設定  \n",
    "                im.putpalette(palette)              \n",
    "                pos = str(path).rfind(\"\\\\\")\n",
    "                fn =path[pos + 1:]\n",
    "                im.save(outputPath + fn, quality=95)\n",
    "                cnt += 1\n",
    "    return cnt\n",
    "if __name__ == \"__main__\":\n",
    "    path = [\n",
    "        BASE_PATH + MASK_PATH,\n",
    "        BASE_PATH + MASK_PALETTE_PATH\n",
    "    ]\n",
    "    cnt = binarizationImage(path)\n",
    "    print(\"Binarization Image Size : %i\" % cnt)\n",
    "    "
   ]
  },
  {
   "cell_type": "markdown",
   "metadata": {},
   "source": [
    "## 2値化してフォルダにコピーする  (出力はグレースケール)"
   ]
  },
  {
   "cell_type": "code",
   "execution_count": 21,
   "metadata": {},
   "outputs": [
    {
     "name": "stdout",
     "output_type": "stream",
     "text": [
      "Binarization Image Size : 2000\n"
     ]
    }
   ],
   "source": [
    "from PIL import Image\n",
    "import numpy as np\n",
    "from glob import glob\n",
    "\n",
    "def binarizationImage(path):\n",
    "    ''' \n",
    "    指定したインデックスカラーのみ残して2値化する\n",
    "    [input] パス(入力,出力)\n",
    "    [output] 変換したファイル数\n",
    "    '''\n",
    "    inputPath = path[0] + '*'\n",
    "    outputPath = path[1]\n",
    "    files = glob(inputPath)\n",
    "\n",
    "    cnt = 0\n",
    "    for path in files:\n",
    "        if path.find('.png') < 0:\n",
    "            continue\n",
    "        with Image.open(path) as im:\n",
    "            if im.mode != 'RGB':\n",
    "                print(\"not RGB mode...\")\n",
    "                continue\n",
    "            \n",
    "            # 特定の色を白、それ以外を黒にする\n",
    "            p = np.asarray(im, dtype=np.uint8)\n",
    "            reduced = p.copy()            \n",
    "            cond_p = (reduced[:,:,0] >= 64) & (reduced[:,:,0] < 80) & (reduced[:,:,1] == 0) & (reduced[:,:,2] == 0)\n",
    "            cond_f = np.logical_not(cond_p)\n",
    "            reduced[cond_p] = [255, 255, 255]\n",
    "            reduced[cond_f] = [0, 0, 0]\n",
    "            \n",
    "            # 保存\n",
    "            with Image.fromarray(np.uint8(reduced)) as im:\n",
    "                # 白黒モードにする\n",
    "                im_grey = im.convert('1')\n",
    "                pos = str(path).rfind(\"\\\\\")\n",
    "                fn =path[pos + 1:]\n",
    "                im_grey.save(outputPath + fn, quality=95)\n",
    "                cnt += 1\n",
    "    return cnt\n",
    "if __name__ == \"__main__\":\n",
    "    path = [\n",
    "        BASE_PATH + MASK_PATH,\n",
    "        BASE_PATH + MASK_GREY_PATH\n",
    "    ]\n",
    "    cnt = binarizationImage(path)\n",
    "    print(\"Binarization Image Size : %i\" % cnt)"
   ]
  },
  {
   "cell_type": "markdown",
   "metadata": {},
   "source": [
    "## 2値化のテスト"
   ]
  },
  {
   "cell_type": "code",
   "execution_count": 3,
   "metadata": {},
   "outputs": [
    {
     "name": "stdout",
     "output_type": "stream",
     "text": [
      "2_base\\mask\\*\n"
     ]
    }
   ],
   "source": [
    "import cv2\n",
    "from PIL import Image\n",
    "import numpy as np\n",
    "from glob import glob\n",
    "\n",
    "# 新しいパレット 0:黒(0,0,0), 1:白(255,255,255)\n",
    "palette = np.zeros((256, 3), dtype=np.uint8)\n",
    "palette[0] = [0, 0, 0]\n",
    "palette[1] = [255, 255, 255]\n",
    "palette = palette.reshape(-1).tolist()\n",
    "    \n",
    "inputPath = BASE_PATH + MASK_PATH + \"*\"\n",
    "print(inputPath)\n",
    "files = glob(inputPath)\n",
    "for path in files:\n",
    "    with Image.open(path) as im:\n",
    "        #print(im.mode)\n",
    "        im_list = np.asarray(im)\n",
    "        p = np.asarray(im, dtype=np.uint8)\n",
    "        reduced = p.copy()\n",
    "        cond_p = (reduced[:,:,0] == 72) & (reduced[:,:,1] == 0) & (reduced[:,:,2] == 0)\n",
    "        cond_f = np.logical_not(cond_p)\n",
    "        reduced[cond_p] = 1\n",
    "        reduced[cond_f] = 0\n",
    "        \n",
    "        # パレットモードの画像を出力する\n",
    "        base = np.zeros((256, 256), dtype=np.uint8)\n",
    "        for i in range(256):\n",
    "            for j in range(256):\n",
    "                if reduced[i,j,0] > 0:\n",
    "                    base[i,j] = 1\n",
    "\n",
    "        with Image.fromarray(base, mode=\"P\") as im:\n",
    "            im.putpalette(palette)  # パレットの設定  \n",
    "            im.save(path, quality=95)\n",
    "    \n"
   ]
  }
 ],
 "metadata": {
  "kernelspec": {
   "display_name": "u-net-keras",
   "language": "python",
   "name": "u-net-keras"
  },
  "language_info": {
   "codemirror_mode": {
    "name": "ipython",
    "version": 3
   },
   "file_extension": ".py",
   "mimetype": "text/x-python",
   "name": "python",
   "nbconvert_exporter": "python",
   "pygments_lexer": "ipython3",
   "version": "3.7.7"
  }
 },
 "nbformat": 4,
 "nbformat_minor": 4
}
