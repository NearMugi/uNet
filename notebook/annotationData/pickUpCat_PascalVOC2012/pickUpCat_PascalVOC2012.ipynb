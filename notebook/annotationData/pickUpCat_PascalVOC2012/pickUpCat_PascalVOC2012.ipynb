{
 "cells": [
  {
   "cell_type": "markdown",
   "metadata": {},
   "source": [
    "# PascalVOC2012から特定のインデックス画像をピックアップする"
   ]
  },
  {
   "cell_type": "code",
   "execution_count": 5,
   "metadata": {},
   "outputs": [],
   "source": [
    "INPUT_PATH = '0_input\\VOCdevkit\\VOC2012'\n",
    "INPUT_JPEGIMAGE_PATH = '\\JPEGImages\\\\'\n",
    "INPUT_SEGMENT_PATH = '\\SegmentationClass\\*'\n",
    "OUTPUT_SEG_PATH = '1_outputSegmentation\\\\'\n",
    "OUTPUT_BASE_PATH = '2_base\\\\'\n",
    "OUTPUT_ORI_PATH = OUTPUT_BASE_PATH + 'image\\\\'\n",
    "OUTPUT_BINARY_PATH = OUTPUT_BASE_PATH + 'mask\\\\'\n",
    "OUTPUT_AUGMENTATION_PATH = '3_augmentation\\\\'\n",
    "INDEX_CAT = 8 \n",
    "INDEX_DOG = 12"
   ]
  },
  {
   "cell_type": "markdown",
   "metadata": {},
   "source": [
    "## 特定のインデックスを抽出&別フォルダに出力"
   ]
  },
  {
   "cell_type": "code",
   "execution_count": 2,
   "metadata": {},
   "outputs": [
    {
     "name": "stdout",
     "output_type": "stream",
     "text": [
      "palette size : (256, 3)\n",
      "target Idx : 8, RGB[64  0  0]\n",
      "[End] GetSize : 250\n",
      "250\n"
     ]
    }
   ],
   "source": [
    "from PIL import Image\n",
    "import numpy as np\n",
    "from glob import glob\n",
    "\n",
    "def getPickUpImage(idx):\n",
    "    ''' \n",
    "    指定したインデックス画像名を取得する\n",
    "    [input] インデックス\n",
    "    [output] 画像名のList\n",
    "    '''\n",
    "    targetImageList = list()\n",
    "    files = glob(INPUT_PATH + INPUT_SEGMENT_PATH)\n",
    "\n",
    "    # パレット(Numpy配列)を取得\n",
    "    palette = np.array(\"\")\n",
    "    for path in files:\n",
    "        with Image.open(path) as im:\n",
    "            palette = np.array(im.getpalette(), dtype=np.uint8).reshape(-1, 3)\n",
    "            print(\"palette size : %s\" % str(palette.shape))\n",
    "            print(\"target Idx : %i, RGB%s\" %(idx, str(palette[idx])))\n",
    "            break\n",
    "\n",
    "    cnt = 0\n",
    "    for path in files:\n",
    "        with Image.open(path) as im:            \n",
    "            # ターゲットのインデックス以外の値は[0]に置き換える\n",
    "            p_array = np.asarray(im)\n",
    "            reduced = p_array.copy()\n",
    "            reduced[reduced != idx] = 0\n",
    "            # 重複データを削除\n",
    "            uniqueArray = np.unique(reduced, axis=0)\n",
    "            # ターゲットのインデックスがない場合 -> 全てゼロ -> shapeは(1,500)\n",
    "            # ターゲットのインデックスがある場合 -> 2行以上ある -> shape[0] > 1\n",
    "            if uniqueArray.shape[0] > 1:\n",
    "                cnt += 1\n",
    "                pos = str(path).rfind(\"\\\\\")\n",
    "                fn =path[pos + 1:-4]\n",
    "                #print(fn)                    \n",
    "                targetImageList.append(fn)\n",
    "                \n",
    "                # 別フォルダにコピーする\n",
    "                im.save(OUTPUT_SEG_PATH + fn + '.png', quality=95)\n",
    "                # 別フォルダにコピーする(オリジナル画像)\n",
    "                fileOri = INPUT_PATH + INPUT_JPEGIMAGE_PATH + fn + '.jpg'\n",
    "                with Image.open(fileOri) as imOri:\n",
    "                    imOri.save(OUTPUT_ORI_PATH + fn + '.jpg', quality=95)                \n",
    "\n",
    "    print(\"[End] GetSize : %i\" % cnt)\n",
    "    return targetImageList\n",
    "    \n",
    "if __name__ == \"__main__\":\n",
    "    targetImageList = getPickUpImage(INDEX_CAT)\n",
    "    #targetImageList.extend(getPickUpImage(INDEX_DOG))\n",
    "    print(len(targetImageList))\n"
   ]
  },
  {
   "cell_type": "markdown",
   "metadata": {},
   "source": [
    "## 画像を調整  \n",
    "画像サイズ・ アルファチャンネル削除   \n",
    "参考URL  \n",
    "[セマンティックセグメンテーションをやってみた](https://qiita.com/yakisobamilk/items/2470354c8d01aaf1e510)\n"
   ]
  },
  {
   "cell_type": "code",
   "execution_count": 3,
   "metadata": {},
   "outputs": [
    {
     "name": "stdout",
     "output_type": "stream",
     "text": [
      "reshape [1_outputSegmentation\\] Size : 250\n",
      "reshape [2_base\\image\\] Size : 250\n"
     ]
    }
   ],
   "source": [
    "from PIL import Image\n",
    "from glob import glob\n",
    "\n",
    "def reshapeImage(path):\n",
    "    cnt = 0\n",
    "    files = glob(path)\n",
    "    for path in files:\n",
    "        if path.find('.png') < 0 and path.find('.jpg') < 0:\n",
    "            continue        \n",
    "        with Image.open(path) as im:                \n",
    "            # 画像の短辺に合わせて正方形化\n",
    "            im = crop_to_square(im)\n",
    "\n",
    "            # 512*512にリサイズ\n",
    "            im = im.resize((512, 512))\n",
    "\n",
    "            # アルファチャネルがあればRGBに変換\n",
    "            if im.mode == 'RGBA':\n",
    "                im = im.convert('RGB')\n",
    "\n",
    "            im.save(path, quality=95)\n",
    "            \n",
    "            cnt += 1\n",
    "    return cnt\n",
    "                \n",
    "    \n",
    "def crop_to_square(image):\n",
    "    ''' 画像の短辺に合わせて正方形化\n",
    "    '''\n",
    "    size = min(image.size)\n",
    "    left, upper = (image.width - size) // 2, (image.height - size) // 2\n",
    "    right, bottom = (image.width + size) // 2, (image.height + size) // 2\n",
    "\n",
    "    return image.crop((left, upper, right, bottom))\n",
    "\n",
    "if __name__ == \"__main__\":\n",
    "    cnt = reshapeImage(OUTPUT_SEG_PATH + '*')\n",
    "    print(\"reshape [%s] Size : %i\" %(OUTPUT_SEG_PATH, cnt))\n",
    "    cnt = reshapeImage(OUTPUT_ORI_PATH + '*')\n",
    "    print(\"reshape [%s] Size : %i\" %(OUTPUT_ORI_PATH, cnt))\n",
    "    "
   ]
  },
  {
   "cell_type": "markdown",
   "metadata": {},
   "source": [
    "## 2値化してフォルダにコピーする  \n",
    "インデックスの扱いは以下のURLを参考にした  \n",
    "[Numpyでインデックスカラー画像（VOC2012のマスク）→RGB画像への変換をする方法](https://blog.shikoan.com/numpy-indexedcolor-to-rgb/)  \n",
    "新しいパレットを設定するのは以下のURL  \n",
    "[インデックスカラーのカラーパレットの編集](https://teratail.com/questions/187368)"
   ]
  },
  {
   "cell_type": "code",
   "execution_count": 4,
   "metadata": {},
   "outputs": [
    {
     "name": "stdout",
     "output_type": "stream",
     "text": [
      "Binarization Image Size : 250\n"
     ]
    }
   ],
   "source": [
    "from PIL import Image\n",
    "import numpy as np\n",
    "from glob import glob\n",
    "\n",
    "def binarizationImage(idx):\n",
    "    ''' \n",
    "    指定したインデックス画像のみ残して2値化する\n",
    "    [input] インデックス\n",
    "    [output] 変換したファイル数\n",
    "    '''\n",
    "    files = glob(OUTPUT_SEG_PATH + '*')\n",
    "    # 新しいパレット 0:黒(0,0,0), 1:白(255,255,255)\n",
    "    palette = np.zeros((256, 3), dtype=np.uint8)\n",
    "    palette[0] = [0, 0, 0]\n",
    "    palette[1] = [255, 255, 255]\n",
    "    palette = palette.reshape(-1).tolist()\n",
    "\n",
    "    cnt = 0\n",
    "    for path in files:\n",
    "        if path.find('.png') < 0:\n",
    "            continue\n",
    "        with Image.open(path) as im:\n",
    "            # ターゲットのインデックス以外は[0]に、\n",
    "            # ターゲットのインデックスは[1]に置き換える\n",
    "            p_array = np.asarray(im)\n",
    "            reduced = p_array.copy()\n",
    "            reduced[reduced != idx] = 0\n",
    "            reduced[reduced == idx] = 1\n",
    "            # 画像モードをPに変更する\n",
    "            #新しいパレットを設定する\n",
    "            pil_img = Image.fromarray(reduced)\n",
    "            pil_img.putpalette(palette)\n",
    "            \n",
    "            # 別フォルダにコピーする\n",
    "            pos = str(path).rfind(\"\\\\\")\n",
    "            fn =path[pos + 1:]\n",
    "            pil_img.save(OUTPUT_BINARY_PATH + fn, quality=95)\n",
    "            cnt += 1\n",
    "    return cnt\n",
    "if __name__ == \"__main__\":\n",
    "    cnt = binarizationImage(INDEX_CAT)\n",
    "    print(\"Binarization Image Size : %i\" % cnt)\n",
    "    "
   ]
  },
  {
   "cell_type": "markdown",
   "metadata": {},
   "source": [
    "## ImageDataGenerator  \n",
    "  \n",
    "[画像の前処理](https://keras.io/ja/preprocessing/image/)  \n",
    "[セマンティックセグメンテーションをやってみた](https://qiita.com/yakisobamilk/items/2470354c8d01aaf1e510)  \n",
    "\n"
   ]
  },
  {
   "cell_type": "code",
   "execution_count": 13,
   "metadata": {},
   "outputs": [
    {
     "name": "stdout",
     "output_type": "stream",
     "text": [
      "Found 250 images belonging to 1 classes.\n",
      "Found 250 images belonging to 1 classes.\n",
      "[End]\n"
     ]
    }
   ],
   "source": [
    "from keras.preprocessing.image import ImageDataGenerator\n",
    "import numpy as np\n",
    "\n",
    "def adjustData(img, mask):\n",
    "    # 元画像の方は255で割って正規化する\n",
    "    if np.max(img) > 1:\n",
    "        img = img / 255.\n",
    "\n",
    "    # マスク画像の方はOne-Hotベクトル化する\n",
    "    # パレットカラーをndarrayで取得する\n",
    "    # 0:黒(0,0,0), 1:白(255,255,255)\n",
    "    palette = np.zeros((2, 3), dtype=np.uint8)\n",
    "    palette[0] = [0, 0, 0]\n",
    "    palette[1] = [255, 255, 255]\n",
    "\n",
    "    # パレットとRGB値を比較してマスク画像をOne-hot化する\n",
    "    onehot = np.zeros((mask.shape[0], 256, 256, len(palette)), dtype=np.uint8)\n",
    "    for i in range(len(palette)):\n",
    "        # 現在カテゴリのRGB値を[R, G, B]の形で取得する\n",
    "        cat_color = palette[i]\n",
    "\n",
    "        # 画像が現在カテゴリ色と一致する画素に1を立てた(256, 256)のndarrayを作る\n",
    "        temp = np.where((mask[:, :, :, 0] == cat_color[0]) &\n",
    "                        (mask[:, :, :, 1] == cat_color[1]) &\n",
    "                        (mask[:, :, :, 2] == cat_color[2]), 1, 0)\n",
    "\n",
    "        # 現在カテゴリに結果を割り当てる\n",
    "        onehot[:, :, :, i] = temp\n",
    "\n",
    "    return img, onehot\n",
    "\n",
    "def trainGenerator(image_folder, batch_size=20, save_to_dir=[None, None]):\n",
    "    # 2つのジェネレータには同じパラメータを設定する必要がある\n",
    "    data_gen_args = dict(\n",
    "        rotation_range=90.,\n",
    "        width_shift_range=1.,   # 元画像上でのシフト量128にzoom_ratioをかけてint型で設定する\n",
    "        height_shift_range=1.,  # 同上\n",
    "        horizontal_flip=True,\n",
    "        rescale=None            # リスケールはadjustData()でやる\n",
    "    )\n",
    "    seed = 1                    # Shuffle時のSeedも共通にしないといけない\n",
    "\n",
    "    # ImageDataGeneratorを準備\n",
    "    image_datagen = ImageDataGenerator(**data_gen_args)\n",
    "    mask_datagen = ImageDataGenerator(**data_gen_args)\n",
    "\n",
    "    # ジェネレータを準備\n",
    "    image_generator = image_datagen.flow_from_directory(\n",
    "        directory=image_folder,\n",
    "        classes=['image'],      # directoryの下のフォルダを1つ選び、\n",
    "        class_mode=None,        # そのクラスだけを読み込んで、正解ラベルは返さない\n",
    "        target_size=(256, 256),\n",
    "        batch_size=batch_size,\n",
    "        seed=seed,\n",
    "        save_to_dir=save_to_dir[0]\n",
    "    )\n",
    "    mask_generator = mask_datagen.flow_from_directory(\n",
    "        directory=image_folder,\n",
    "        classes=['mask'],\n",
    "        class_mode=None,\n",
    "        target_size=(256, 256),\n",
    "        batch_size=batch_size,\n",
    "        seed=seed,\n",
    "        save_to_dir=save_to_dir[1]\n",
    "    )\n",
    "\n",
    "    for (img, mask) in zip(image_generator, mask_generator):\n",
    "        img, mask = adjustData(img, mask)\n",
    "        yield img, mask    \n",
    "\n",
    "if __name__ == '__main__':\n",
    "    temp_gen = trainGenerator(\n",
    "        OUTPUT_BASE_PATH, \n",
    "        batch_size=1, \n",
    "        save_to_dir=[ \n",
    "            OUTPUT_AUGMENTATION_PATH + 'image', \n",
    "            OUTPUT_AUGMENTATION_PATH+ 'mask'\n",
    "        ]\n",
    "    )\n",
    "\n",
    "    DATA_SIZE = 250\n",
    "    cnt = 0\n",
    "    for img, mask in temp_gen:\n",
    "        cnt += 1\n",
    "        if cnt >= DATA_SIZE:\n",
    "            break\n",
    "    \n",
    "    print(\"[End]\")\n"
   ]
  }
 ],
 "metadata": {
  "kernelspec": {
   "display_name": "keras_gpu",
   "language": "python",
   "name": "keras_gpu"
  },
  "language_info": {
   "codemirror_mode": {
    "name": "ipython",
    "version": 3
   },
   "file_extension": ".py",
   "mimetype": "text/x-python",
   "name": "python",
   "nbconvert_exporter": "python",
   "pygments_lexer": "ipython3",
   "version": "3.7.6"
  }
 },
 "nbformat": 4,
 "nbformat_minor": 4
}
